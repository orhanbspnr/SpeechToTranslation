{
 "cells": [
  {
   "cell_type": "code",
   "execution_count": 1,
   "id": "b0529d4f-72c1-4f9f-86d6-1d4516334037",
   "metadata": {},
   "outputs": [],
   "source": [
    "import speech_recognition as sr"
   ]
  },
  {
   "cell_type": "code",
   "execution_count": 2,
   "id": "4075b9c4-e954-4e9a-9d58-531045b43448",
   "metadata": {},
   "outputs": [
    {
     "name": "stdout",
     "output_type": "stream",
     "text": [
      "Let's talk about something...\n",
      "You've said : Bugün hava yağmurlu\n"
     ]
    }
   ],
   "source": [
    "rec = sr.Recognizer()\n",
    "\n",
    "with sr.Microphone() as mic:\n",
    "    rec.adjust_for_ambient_noise(mic)\n",
    "    print(\"Let's talk about something...\" )\n",
    "    audio = rec.listen(mic)\n",
    "    \n",
    "    try:\n",
    "        print(\"You've said : \" +rec.recognize_google(audio , language='tr-TR'))\n",
    "    except Exception as e:\n",
    "        print(\"Error occured -> \" + str(e))\n"
   ]
  },
  {
   "cell_type": "code",
   "execution_count": 3,
   "id": "117f1e96-c52b-4c0c-b0bd-1ba878b8d412",
   "metadata": {},
   "outputs": [
    {
     "name": "stdout",
     "output_type": "stream",
     "text": [
      "Let's talk about something...\n",
      "You've said : Bugün hava yağmurlu\n",
      "Saved succesfully.\n"
     ]
    }
   ],
   "source": [
    "rec = sr.Recognizer()\n",
    "\n",
    "with sr.Microphone() as mic:\n",
    "    rec.adjust_for_ambient_noise(mic)\n",
    "    print(\"Let's talk about something...\" )\n",
    "    audio = rec.listen(mic)\n",
    "    \n",
    "    try:\n",
    "        print(\"You've said : \" +rec.recognize_google(audio, language='tr-TR'))\n",
    "    except Exception as e:\n",
    "        print(\"Error occured -> \" + str(e))\n",
    "        \n",
    "    with open(\"unnamed.wav\", \"wb\") as f:\n",
    "        f.write(audio.get_wav_data())\n",
    "        print(\"Saved succesfully.\")"
   ]
  },
  {
   "cell_type": "code",
   "execution_count": 4,
   "id": "a344f861-9f1d-4566-b7b8-a40fe504108d",
   "metadata": {
    "tags": []
   },
   "outputs": [
    {
     "name": "stdout",
     "output_type": "stream",
     "text": [
      "af - afrikaans\n",
      "sq - albanian\n",
      "am - amharic\n",
      "ar - arabic\n",
      "hy - armenian\n",
      "az - azerbaijani\n",
      "eu - basque\n",
      "be - belarusian\n",
      "bn - bengali\n",
      "bs - bosnian\n",
      "bg - bulgarian\n",
      "ca - catalan\n",
      "ceb - cebuano\n",
      "ny - chichewa\n",
      "zh-cn - chinese (simplified)\n",
      "zh-tw - chinese (traditional)\n",
      "co - corsican\n",
      "hr - croatian\n",
      "cs - czech\n",
      "da - danish\n",
      "nl - dutch\n",
      "en - english\n",
      "eo - esperanto\n",
      "et - estonian\n",
      "tl - filipino\n",
      "fi - finnish\n",
      "fr - french\n",
      "fy - frisian\n",
      "gl - galician\n",
      "ka - georgian\n",
      "de - german\n",
      "el - greek\n",
      "gu - gujarati\n",
      "ht - haitian creole\n",
      "ha - hausa\n",
      "haw - hawaiian\n",
      "iw - hebrew\n",
      "he - hebrew\n",
      "hi - hindi\n",
      "hmn - hmong\n",
      "hu - hungarian\n",
      "is - icelandic\n",
      "ig - igbo\n",
      "id - indonesian\n",
      "ga - irish\n",
      "it - italian\n",
      "ja - japanese\n",
      "jw - javanese\n",
      "kn - kannada\n",
      "kk - kazakh\n",
      "km - khmer\n",
      "ko - korean\n",
      "ku - kurdish (kurmanji)\n",
      "ky - kyrgyz\n",
      "lo - lao\n",
      "la - latin\n",
      "lv - latvian\n",
      "lt - lithuanian\n",
      "lb - luxembourgish\n",
      "mk - macedonian\n",
      "mg - malagasy\n",
      "ms - malay\n",
      "ml - malayalam\n",
      "mt - maltese\n",
      "mi - maori\n",
      "mr - marathi\n",
      "mn - mongolian\n",
      "my - myanmar (burmese)\n",
      "ne - nepali\n",
      "no - norwegian\n",
      "or - odia\n",
      "ps - pashto\n",
      "fa - persian\n",
      "pl - polish\n",
      "pt - portuguese\n",
      "pa - punjabi\n",
      "ro - romanian\n",
      "ru - russian\n",
      "sm - samoan\n",
      "gd - scots gaelic\n",
      "sr - serbian\n",
      "st - sesotho\n",
      "sn - shona\n",
      "sd - sindhi\n",
      "si - sinhala\n",
      "sk - slovak\n",
      "sl - slovenian\n",
      "so - somali\n",
      "es - spanish\n",
      "su - sundanese\n",
      "sw - swahili\n",
      "sv - swedish\n",
      "tg - tajik\n",
      "ta - tamil\n",
      "te - telugu\n",
      "th - thai\n",
      "tr - turkish\n",
      "uk - ukrainian\n",
      "ur - urdu\n",
      "ug - uyghur\n",
      "uz - uzbek\n",
      "vi - vietnamese\n",
      "cy - welsh\n",
      "xh - xhosa\n",
      "yi - yiddish\n",
      "yo - yoruba\n",
      "zu - zulu\n"
     ]
    }
   ],
   "source": [
    "from googletrans import LANGUAGES\n",
    "\n",
    "for lang in LANGUAGES:\n",
    "    print(f'{lang} - {LANGUAGES[lang]}')"
   ]
  },
  {
   "cell_type": "code",
   "execution_count": 5,
   "id": "33f77aa5-9182-4905-bb73-0927c108bcab",
   "metadata": {},
   "outputs": [],
   "source": [
    "from googletrans import Translator\n",
    "\n",
    "trans = Translator()\n",
    "t = trans.translate(\"Günaydın\")"
   ]
  },
  {
   "cell_type": "code",
   "execution_count": 6,
   "id": "7a8c29e4-6775-41be-8f8a-5d161015863f",
   "metadata": {},
   "outputs": [
    {
     "name": "stdout",
     "output_type": "stream",
     "text": [
      "tr\n"
     ]
    }
   ],
   "source": [
    "print(t.src)"
   ]
  },
  {
   "cell_type": "code",
   "execution_count": 7,
   "id": "497f1fc8-6530-4e9a-86eb-447618714d79",
   "metadata": {},
   "outputs": [
    {
     "data": {
      "text/plain": [
       "'en'"
      ]
     },
     "execution_count": 7,
     "metadata": {},
     "output_type": "execute_result"
    }
   ],
   "source": [
    "t.dest"
   ]
  },
  {
   "cell_type": "code",
   "execution_count": 8,
   "id": "e8b0d68e-349e-4e48-8973-cf3042c69435",
   "metadata": {},
   "outputs": [
    {
     "data": {
      "text/plain": [
       "'Good morning'"
      ]
     },
     "execution_count": 8,
     "metadata": {},
     "output_type": "execute_result"
    }
   ],
   "source": [
    "t.text"
   ]
  },
  {
   "cell_type": "code",
   "execution_count": 11,
   "id": "98dab0f1-51dd-452e-beff-c796235c77f6",
   "metadata": {},
   "outputs": [],
   "source": [
    "f = open(\"tr_text.txt\", \"w+\")\n",
    "f.write(tr_text)\n",
    "f.close()"
   ]
  },
  {
   "cell_type": "code",
   "execution_count": 10,
   "id": "2a148bd1-2403-4c65-a932-b65958cc7567",
   "metadata": {},
   "outputs": [
    {
     "name": "stdout",
     "output_type": "stream",
     "text": [
      "Bugün hava yağmurlu\n"
     ]
    }
   ],
   "source": [
    "tr_text = rec.recognize_google(audio, language='tr-TR')\n",
    "print(tr_text)"
   ]
  },
  {
   "cell_type": "code",
   "execution_count": 12,
   "id": "4c23982a-e01b-4dae-a880-29b1a4cd37f0",
   "metadata": {},
   "outputs": [
    {
     "name": "stdout",
     "output_type": "stream",
     "text": [
      "The weather is rainy today\n"
     ]
    }
   ],
   "source": [
    "en_text = trans.translate(tr_text, src = \"tr\", dest = \"en\")\n",
    "en_text.text\n",
    "webbrowser.open(\"https://www.google.co.uk/\")\n",
    "print(en_text.text)"
   ]
  },
  {
   "cell_type": "code",
   "execution_count": 15,
   "id": "5197cc41-449d-42f6-9551-7b571bb817a9",
   "metadata": {},
   "outputs": [
    {
     "name": "stdout",
     "output_type": "stream",
     "text": [
      "Le temps est pluvieux aujourd'hui\n"
     ]
    }
   ],
   "source": [
    "fr_text = trans.translate(tr_text, src = \"tr\", dest = \"fr\")\n",
    "fr_text.text\n",
    "webbrowser.open(\"https://www.google.fr/webhp\")\n",
    "print(fr_text.text)"
   ]
  },
  {
   "cell_type": "code",
   "execution_count": 17,
   "id": "c356bda5-e01c-49de-bcaf-e6e28fa6108d",
   "metadata": {},
   "outputs": [
    {
     "name": "stdout",
     "output_type": "stream",
     "text": [
      "Das Wetter ist heute regnerisch\n"
     ]
    }
   ],
   "source": [
    "de_text = trans.translate(tr_text, src = \"tr\", dest = \"de\")\n",
    "de_text.text\n",
    "webbrowser.open(\"https://www.google.de/\")\n",
    "print(de_text.text)"
   ]
  },
  {
   "cell_type": "code",
   "execution_count": null,
   "id": "d7b9d16e-8262-42c7-99c5-5f50a02791f7",
   "metadata": {},
   "outputs": [],
   "source": [
    "en_text.origin"
   ]
  },
  {
   "cell_type": "code",
   "execution_count": 14,
   "id": "6b2e422b-a3a0-40ac-aae4-70a87c561370",
   "metadata": {},
   "outputs": [],
   "source": [
    "f = open(\"en_text\", \"w+\")\n",
    "f.write(en_text.text)\n",
    "f.close()"
   ]
  },
  {
   "cell_type": "code",
   "execution_count": 16,
   "id": "9f078ede-6504-4330-acab-d7a2135433c9",
   "metadata": {},
   "outputs": [],
   "source": [
    "f = open(\"fr_text\", \"w+\")\n",
    "f.write(fr_text.text)\n",
    "f.close()"
   ]
  },
  {
   "cell_type": "code",
   "execution_count": 18,
   "id": "08eedd85-b47c-44e4-98ea-711b0c32fafa",
   "metadata": {},
   "outputs": [],
   "source": [
    "f = open(\"de_text\", \"w+\")\n",
    "f.write(de_text.text)\n",
    "f.close()"
   ]
  },
  {
   "cell_type": "code",
   "execution_count": 9,
   "id": "2ba948c0-b1f4-4096-9f51-4bd880d4286d",
   "metadata": {},
   "outputs": [],
   "source": [
    "import webbrowser"
   ]
  },
  {
   "cell_type": "code",
   "execution_count": null,
   "id": "d07e1539-3af7-4c67-bd34-ebd1eea45b2b",
   "metadata": {},
   "outputs": [],
   "source": []
  }
 ],
 "metadata": {
  "kernelspec": {
   "display_name": "Python 3",
   "language": "python",
   "name": "python3"
  },
  "language_info": {
   "codemirror_mode": {
    "name": "ipython",
    "version": 3
   },
   "file_extension": ".py",
   "mimetype": "text/x-python",
   "name": "python",
   "nbconvert_exporter": "python",
   "pygments_lexer": "ipython3",
   "version": "3.8.8"
  }
 },
 "nbformat": 4,
 "nbformat_minor": 5
}
